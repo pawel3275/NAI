{
 "cells": [
  {
   "attachments": {},
   "cell_type": "markdown",
   "metadata": {},
   "source": [
    "## Zjazd 5 - 03.12.2022 - Cezary Graban s21752, Paweł Iwiński s19771\n",
    "### Podstawowe użycie sieci neuronowych - warstwy konwolucyjne, glebokie, dropout, etc..."
   ]
  },
  {
   "attachments": {},
   "cell_type": "markdown",
   "metadata": {},
   "source": [
    "##### Dataset 1 - Sonar Dataset - The Sonar Dataset involves the prediction of whether or not an object is a mine or a rock given the strength of sonar returns at different angles.\n",
    "###### source: https://www.kaggle.com/datasets/ypzhangsam/sonaralldata\n",
    "\n",
    "##### Dataset 2 - CIFAR10 - The CIFAR-10 dataset is a collection of images that are commonly used to train machine learning. CIFAR-10 dataset contains 60,000 32x32 color images in 10 different classes. The 10 different classes represent airplanes, cars, birds, cats, deer, dogs, frogs, horses, ships, and trucks.\n",
    "###### source: https://www.kaggle.com/c/cifar-10\n",
    "\n",
    "##### Dataset 3 - Fashion MNIST - Fashion-MNIST is a dataset of Zalando's article images—consisting of a training set of 60,000 examples and a test set of 10,000 examples. Each example is a 28x28 grayscale image, associated with a label from 10 classes.\n",
    "###### source: https://www.kaggle.com/datasets/zalando-research/fashionmnist\n",
    "\n",
    "##### Dataset 4 - Tweets - Determining if the tweet is a positite or negative tweet  \n",
    "###### source: from snscrape.modules.twitter import TwitterHashtagScraper"
   ]
  },
  {
   "attachments": {},
   "cell_type": "markdown",
   "metadata": {},
   "source": [
    "#### Importy"
   ]
  },
  {
   "cell_type": "code",
   "execution_count": 28,
   "metadata": {},
   "outputs": [],
   "source": [
    "%%capture\n",
    "import sys\n",
    "import os\n",
    "!{sys.executable} -m pip install wordcloud\n",
    "!{sys.executable} -m pip install numpy\n",
    "!{sys.executable} -m pip install snscrape\n",
    "!{sys.executable} -m pip install nbconvert\n",
    "!{sys.executable} -m pip install langdetect\n",
    "!{sys.executable} -m pip install --upgrade tensorflow==1.15\n",
    "!{sys.executable} -m pip install plotly\n",
    "!{sys.executable} -m pip install cufflinks\n",
    "!{sys.executable} -m pip install numpy==1.19.5\n",
    "\n",
    "import nltk\n",
    "from nltk.tokenize import word_tokenize, TweetTokenizer\n",
    "from nltk.corpus import stopwords\n",
    "from nltk.stem import WordNetLemmatizer\n",
    "\n",
    "\n",
    "nltk.download('wordnet')\n",
    "nltk.download('vader_lexicon')\n",
    "\n",
    "import numpy as np\n",
    "import pandas as pd\n",
    "import matplotlib.pyplot as plt\n",
    "import tensorflow as tf\n",
    "import re\n",
    "from tensorflow.keras.utils import to_categorical\n",
    "from tensorflow.keras.models import Sequential\n",
    "from tensorflow.keras.layers import Dense, Conv2D, MaxPool2D, Flatten, BatchNormalization, Dropout, MaxPooling2D\n",
    "from tensorflow.keras.callbacks import EarlyStopping, ModelCheckpoint\n",
    "from tensorflow.keras.preprocessing.text import Tokenizer\n",
    "from tensorflow.keras import layers\n",
    "from collections import Counter\n",
    "from langdetect import detect\n",
    "from wordcloud import WordCloud\n",
    "from sklearn.metrics import confusion_matrix\n",
    "from itertools import product\n",
    "from sklearn.preprocessing import StandardScaler, LabelEncoder\n",
    "from sklearn.utils import shuffle\n",
    "from sklearn.model_selection import train_test_split\n",
    "import plotly.graph_objects as go\n",
    "from sklearn.svm import SVC\n",
    "from sklearn.metrics import accuracy_score\n",
    "from sklearn.tree import DecisionTreeClassifier\n",
    "\n",
    "import seaborn as sns\n",
    "import matplotlib.pyplot as plt\n",
    "from tensorflow.keras.preprocessing.sequence import pad_sequences\n",
    "from wordcloud import WordCloud, STOPWORDS\n",
    "from IPython.core.display import display, HTML\n",
    "import nltk\n",
    "from nltk.corpus import stopwords\n",
    "from nltk.stem.porter import PorterStemmer\n",
    "import cufflinks as cf\n",
    "\n",
    "from nltk.sentiment.vader import SentimentIntensityAnalyzer\n",
    "from snscrape.modules.twitter import TwitterHashtagScraper\n",
    "\n",
    "from sklearn.feature_extraction.text import CountVectorizer\n",
    "from sklearn.metrics.pairwise import cosine_similarity\n",
    "from sklearn.feature_extraction.text import TfidfVectorizer\n",
    "\n",
    "f = plt.figure()\n",
    "f.set_figwidth(6)\n",
    "f.set_figheight(6)"
   ]
  },
  {
   "attachments": {},
   "cell_type": "markdown",
   "metadata": {},
   "source": [
    "### 1. Dataset 1 - Sonar dataset"
   ]
  },
  {
   "attachments": {},
   "cell_type": "markdown",
   "metadata": {},
   "source": [
    "##### 1.1 Load the data into dataframe"
   ]
  },
  {
   "cell_type": "code",
   "execution_count": 19,
   "metadata": {},
   "outputs": [
    {
     "data": {
      "text/html": [
       "<div>\n",
       "<style scoped>\n",
       "    .dataframe tbody tr th:only-of-type {\n",
       "        vertical-align: middle;\n",
       "    }\n",
       "\n",
       "    .dataframe tbody tr th {\n",
       "        vertical-align: top;\n",
       "    }\n",
       "\n",
       "    .dataframe thead th {\n",
       "        text-align: right;\n",
       "    }\n",
       "</style>\n",
       "<table border=\"1\" class=\"dataframe\">\n",
       "  <thead>\n",
       "    <tr style=\"text-align: right;\">\n",
       "      <th></th>\n",
       "      <th>Feature 0</th>\n",
       "      <th>Feature 1</th>\n",
       "      <th>Feature 2</th>\n",
       "      <th>Feature 3</th>\n",
       "      <th>Feature 4</th>\n",
       "      <th>Feature 5</th>\n",
       "      <th>Feature 6</th>\n",
       "      <th>Feature 7</th>\n",
       "      <th>Feature 8</th>\n",
       "      <th>Feature 9</th>\n",
       "      <th>...</th>\n",
       "      <th>Feature 51</th>\n",
       "      <th>Feature 52</th>\n",
       "      <th>Feature 53</th>\n",
       "      <th>Feature 54</th>\n",
       "      <th>Feature 55</th>\n",
       "      <th>Feature 56</th>\n",
       "      <th>Feature 57</th>\n",
       "      <th>Feature 58</th>\n",
       "      <th>Feature 59</th>\n",
       "      <th>Class</th>\n",
       "    </tr>\n",
       "  </thead>\n",
       "  <tbody>\n",
       "    <tr>\n",
       "      <td>0</td>\n",
       "      <td>0.0200</td>\n",
       "      <td>0.0371</td>\n",
       "      <td>0.0428</td>\n",
       "      <td>0.0207</td>\n",
       "      <td>0.0954</td>\n",
       "      <td>0.0986</td>\n",
       "      <td>0.1539</td>\n",
       "      <td>0.1601</td>\n",
       "      <td>0.3109</td>\n",
       "      <td>0.2111</td>\n",
       "      <td>...</td>\n",
       "      <td>0.0027</td>\n",
       "      <td>0.0065</td>\n",
       "      <td>0.0159</td>\n",
       "      <td>0.0072</td>\n",
       "      <td>0.0167</td>\n",
       "      <td>0.0180</td>\n",
       "      <td>0.0084</td>\n",
       "      <td>0.0090</td>\n",
       "      <td>0.0032</td>\n",
       "      <td>R</td>\n",
       "    </tr>\n",
       "    <tr>\n",
       "      <td>1</td>\n",
       "      <td>0.0453</td>\n",
       "      <td>0.0523</td>\n",
       "      <td>0.0843</td>\n",
       "      <td>0.0689</td>\n",
       "      <td>0.1183</td>\n",
       "      <td>0.2583</td>\n",
       "      <td>0.2156</td>\n",
       "      <td>0.3481</td>\n",
       "      <td>0.3337</td>\n",
       "      <td>0.2872</td>\n",
       "      <td>...</td>\n",
       "      <td>0.0084</td>\n",
       "      <td>0.0089</td>\n",
       "      <td>0.0048</td>\n",
       "      <td>0.0094</td>\n",
       "      <td>0.0191</td>\n",
       "      <td>0.0140</td>\n",
       "      <td>0.0049</td>\n",
       "      <td>0.0052</td>\n",
       "      <td>0.0044</td>\n",
       "      <td>R</td>\n",
       "    </tr>\n",
       "    <tr>\n",
       "      <td>2</td>\n",
       "      <td>0.0262</td>\n",
       "      <td>0.0582</td>\n",
       "      <td>0.1099</td>\n",
       "      <td>0.1083</td>\n",
       "      <td>0.0974</td>\n",
       "      <td>0.2280</td>\n",
       "      <td>0.2431</td>\n",
       "      <td>0.3771</td>\n",
       "      <td>0.5598</td>\n",
       "      <td>0.6194</td>\n",
       "      <td>...</td>\n",
       "      <td>0.0232</td>\n",
       "      <td>0.0166</td>\n",
       "      <td>0.0095</td>\n",
       "      <td>0.0180</td>\n",
       "      <td>0.0244</td>\n",
       "      <td>0.0316</td>\n",
       "      <td>0.0164</td>\n",
       "      <td>0.0095</td>\n",
       "      <td>0.0078</td>\n",
       "      <td>R</td>\n",
       "    </tr>\n",
       "    <tr>\n",
       "      <td>3</td>\n",
       "      <td>0.0100</td>\n",
       "      <td>0.0171</td>\n",
       "      <td>0.0623</td>\n",
       "      <td>0.0205</td>\n",
       "      <td>0.0205</td>\n",
       "      <td>0.0368</td>\n",
       "      <td>0.1098</td>\n",
       "      <td>0.1276</td>\n",
       "      <td>0.0598</td>\n",
       "      <td>0.1264</td>\n",
       "      <td>...</td>\n",
       "      <td>0.0121</td>\n",
       "      <td>0.0036</td>\n",
       "      <td>0.0150</td>\n",
       "      <td>0.0085</td>\n",
       "      <td>0.0073</td>\n",
       "      <td>0.0050</td>\n",
       "      <td>0.0044</td>\n",
       "      <td>0.0040</td>\n",
       "      <td>0.0117</td>\n",
       "      <td>R</td>\n",
       "    </tr>\n",
       "    <tr>\n",
       "      <td>4</td>\n",
       "      <td>0.0762</td>\n",
       "      <td>0.0666</td>\n",
       "      <td>0.0481</td>\n",
       "      <td>0.0394</td>\n",
       "      <td>0.0590</td>\n",
       "      <td>0.0649</td>\n",
       "      <td>0.1209</td>\n",
       "      <td>0.2467</td>\n",
       "      <td>0.3564</td>\n",
       "      <td>0.4459</td>\n",
       "      <td>...</td>\n",
       "      <td>0.0031</td>\n",
       "      <td>0.0054</td>\n",
       "      <td>0.0105</td>\n",
       "      <td>0.0110</td>\n",
       "      <td>0.0015</td>\n",
       "      <td>0.0072</td>\n",
       "      <td>0.0048</td>\n",
       "      <td>0.0107</td>\n",
       "      <td>0.0094</td>\n",
       "      <td>R</td>\n",
       "    </tr>\n",
       "    <tr>\n",
       "      <td>...</td>\n",
       "      <td>...</td>\n",
       "      <td>...</td>\n",
       "      <td>...</td>\n",
       "      <td>...</td>\n",
       "      <td>...</td>\n",
       "      <td>...</td>\n",
       "      <td>...</td>\n",
       "      <td>...</td>\n",
       "      <td>...</td>\n",
       "      <td>...</td>\n",
       "      <td>...</td>\n",
       "      <td>...</td>\n",
       "      <td>...</td>\n",
       "      <td>...</td>\n",
       "      <td>...</td>\n",
       "      <td>...</td>\n",
       "      <td>...</td>\n",
       "      <td>...</td>\n",
       "      <td>...</td>\n",
       "      <td>...</td>\n",
       "      <td>...</td>\n",
       "    </tr>\n",
       "    <tr>\n",
       "      <td>203</td>\n",
       "      <td>0.0187</td>\n",
       "      <td>0.0346</td>\n",
       "      <td>0.0168</td>\n",
       "      <td>0.0177</td>\n",
       "      <td>0.0393</td>\n",
       "      <td>0.1630</td>\n",
       "      <td>0.2028</td>\n",
       "      <td>0.1694</td>\n",
       "      <td>0.2328</td>\n",
       "      <td>0.2684</td>\n",
       "      <td>...</td>\n",
       "      <td>0.0116</td>\n",
       "      <td>0.0098</td>\n",
       "      <td>0.0199</td>\n",
       "      <td>0.0033</td>\n",
       "      <td>0.0101</td>\n",
       "      <td>0.0065</td>\n",
       "      <td>0.0115</td>\n",
       "      <td>0.0193</td>\n",
       "      <td>0.0157</td>\n",
       "      <td>M</td>\n",
       "    </tr>\n",
       "    <tr>\n",
       "      <td>204</td>\n",
       "      <td>0.0323</td>\n",
       "      <td>0.0101</td>\n",
       "      <td>0.0298</td>\n",
       "      <td>0.0564</td>\n",
       "      <td>0.0760</td>\n",
       "      <td>0.0958</td>\n",
       "      <td>0.0990</td>\n",
       "      <td>0.1018</td>\n",
       "      <td>0.1030</td>\n",
       "      <td>0.2154</td>\n",
       "      <td>...</td>\n",
       "      <td>0.0061</td>\n",
       "      <td>0.0093</td>\n",
       "      <td>0.0135</td>\n",
       "      <td>0.0063</td>\n",
       "      <td>0.0063</td>\n",
       "      <td>0.0034</td>\n",
       "      <td>0.0032</td>\n",
       "      <td>0.0062</td>\n",
       "      <td>0.0067</td>\n",
       "      <td>M</td>\n",
       "    </tr>\n",
       "    <tr>\n",
       "      <td>205</td>\n",
       "      <td>0.0522</td>\n",
       "      <td>0.0437</td>\n",
       "      <td>0.0180</td>\n",
       "      <td>0.0292</td>\n",
       "      <td>0.0351</td>\n",
       "      <td>0.1171</td>\n",
       "      <td>0.1257</td>\n",
       "      <td>0.1178</td>\n",
       "      <td>0.1258</td>\n",
       "      <td>0.2529</td>\n",
       "      <td>...</td>\n",
       "      <td>0.0160</td>\n",
       "      <td>0.0029</td>\n",
       "      <td>0.0051</td>\n",
       "      <td>0.0062</td>\n",
       "      <td>0.0089</td>\n",
       "      <td>0.0140</td>\n",
       "      <td>0.0138</td>\n",
       "      <td>0.0077</td>\n",
       "      <td>0.0031</td>\n",
       "      <td>M</td>\n",
       "    </tr>\n",
       "    <tr>\n",
       "      <td>206</td>\n",
       "      <td>0.0303</td>\n",
       "      <td>0.0353</td>\n",
       "      <td>0.0490</td>\n",
       "      <td>0.0608</td>\n",
       "      <td>0.0167</td>\n",
       "      <td>0.1354</td>\n",
       "      <td>0.1465</td>\n",
       "      <td>0.1123</td>\n",
       "      <td>0.1945</td>\n",
       "      <td>0.2354</td>\n",
       "      <td>...</td>\n",
       "      <td>0.0086</td>\n",
       "      <td>0.0046</td>\n",
       "      <td>0.0126</td>\n",
       "      <td>0.0036</td>\n",
       "      <td>0.0035</td>\n",
       "      <td>0.0034</td>\n",
       "      <td>0.0079</td>\n",
       "      <td>0.0036</td>\n",
       "      <td>0.0048</td>\n",
       "      <td>M</td>\n",
       "    </tr>\n",
       "    <tr>\n",
       "      <td>207</td>\n",
       "      <td>0.0260</td>\n",
       "      <td>0.0363</td>\n",
       "      <td>0.0136</td>\n",
       "      <td>0.0272</td>\n",
       "      <td>0.0214</td>\n",
       "      <td>0.0338</td>\n",
       "      <td>0.0655</td>\n",
       "      <td>0.1400</td>\n",
       "      <td>0.1843</td>\n",
       "      <td>0.2354</td>\n",
       "      <td>...</td>\n",
       "      <td>0.0146</td>\n",
       "      <td>0.0129</td>\n",
       "      <td>0.0047</td>\n",
       "      <td>0.0039</td>\n",
       "      <td>0.0061</td>\n",
       "      <td>0.0040</td>\n",
       "      <td>0.0036</td>\n",
       "      <td>0.0061</td>\n",
       "      <td>0.0115</td>\n",
       "      <td>M</td>\n",
       "    </tr>\n",
       "  </tbody>\n",
       "</table>\n",
       "<p>208 rows × 61 columns</p>\n",
       "</div>"
      ],
      "text/plain": [
       "     Feature 0  Feature 1  Feature 2  Feature 3  Feature 4  Feature 5  \\\n",
       "0       0.0200     0.0371     0.0428     0.0207     0.0954     0.0986   \n",
       "1       0.0453     0.0523     0.0843     0.0689     0.1183     0.2583   \n",
       "2       0.0262     0.0582     0.1099     0.1083     0.0974     0.2280   \n",
       "3       0.0100     0.0171     0.0623     0.0205     0.0205     0.0368   \n",
       "4       0.0762     0.0666     0.0481     0.0394     0.0590     0.0649   \n",
       "..         ...        ...        ...        ...        ...        ...   \n",
       "203     0.0187     0.0346     0.0168     0.0177     0.0393     0.1630   \n",
       "204     0.0323     0.0101     0.0298     0.0564     0.0760     0.0958   \n",
       "205     0.0522     0.0437     0.0180     0.0292     0.0351     0.1171   \n",
       "206     0.0303     0.0353     0.0490     0.0608     0.0167     0.1354   \n",
       "207     0.0260     0.0363     0.0136     0.0272     0.0214     0.0338   \n",
       "\n",
       "     Feature 6  Feature 7  Feature 8  Feature 9  ...  Feature 51  Feature 52  \\\n",
       "0       0.1539     0.1601     0.3109     0.2111  ...      0.0027      0.0065   \n",
       "1       0.2156     0.3481     0.3337     0.2872  ...      0.0084      0.0089   \n",
       "2       0.2431     0.3771     0.5598     0.6194  ...      0.0232      0.0166   \n",
       "3       0.1098     0.1276     0.0598     0.1264  ...      0.0121      0.0036   \n",
       "4       0.1209     0.2467     0.3564     0.4459  ...      0.0031      0.0054   \n",
       "..         ...        ...        ...        ...  ...         ...         ...   \n",
       "203     0.2028     0.1694     0.2328     0.2684  ...      0.0116      0.0098   \n",
       "204     0.0990     0.1018     0.1030     0.2154  ...      0.0061      0.0093   \n",
       "205     0.1257     0.1178     0.1258     0.2529  ...      0.0160      0.0029   \n",
       "206     0.1465     0.1123     0.1945     0.2354  ...      0.0086      0.0046   \n",
       "207     0.0655     0.1400     0.1843     0.2354  ...      0.0146      0.0129   \n",
       "\n",
       "     Feature 53  Feature 54  Feature 55  Feature 56  Feature 57  Feature 58  \\\n",
       "0        0.0159      0.0072      0.0167      0.0180      0.0084      0.0090   \n",
       "1        0.0048      0.0094      0.0191      0.0140      0.0049      0.0052   \n",
       "2        0.0095      0.0180      0.0244      0.0316      0.0164      0.0095   \n",
       "3        0.0150      0.0085      0.0073      0.0050      0.0044      0.0040   \n",
       "4        0.0105      0.0110      0.0015      0.0072      0.0048      0.0107   \n",
       "..          ...         ...         ...         ...         ...         ...   \n",
       "203      0.0199      0.0033      0.0101      0.0065      0.0115      0.0193   \n",
       "204      0.0135      0.0063      0.0063      0.0034      0.0032      0.0062   \n",
       "205      0.0051      0.0062      0.0089      0.0140      0.0138      0.0077   \n",
       "206      0.0126      0.0036      0.0035      0.0034      0.0079      0.0036   \n",
       "207      0.0047      0.0039      0.0061      0.0040      0.0036      0.0061   \n",
       "\n",
       "     Feature 59  Class  \n",
       "0        0.0032      R  \n",
       "1        0.0044      R  \n",
       "2        0.0078      R  \n",
       "3        0.0117      R  \n",
       "4        0.0094      R  \n",
       "..          ...    ...  \n",
       "203      0.0157      M  \n",
       "204      0.0067      M  \n",
       "205      0.0031      M  \n",
       "206      0.0048      M  \n",
       "207      0.0115      M  \n",
       "\n",
       "[208 rows x 61 columns]"
      ]
     },
     "execution_count": 19,
     "metadata": {},
     "output_type": "execute_result"
    }
   ],
   "source": [
    "new_column_names = []\n",
    "for i in range(60):\n",
    "    new_column_names.append(f\"Feature {i}\")\n",
    "\n",
    "new_column_names.append(\"Class\")\n",
    "df = pd.read_csv('sonar.all-data.csv', names=new_column_names)\n",
    "train = df.replace({'Class': {'M': 0, 'R': 1}})\n",
    "x = train.drop(\"Class\",axis=1)\n",
    "y = train['Class']\n",
    "scaler = StandardScaler()\n",
    "x = scaler.fit_transform(x)\n",
    "df"
   ]
  },
  {
   "attachments": {},
   "cell_type": "markdown",
   "metadata": {},
   "source": [
    "##### 1.2 Parse the data to meet the required model requirements"
   ]
  },
  {
   "cell_type": "code",
   "execution_count": 20,
   "metadata": {},
   "outputs": [],
   "source": [
    "def one_hot_encode(labels):\n",
    "    \"\"\"Apply one-hot encoding for the labels in dataset.\n",
    "\n",
    "    Args:\n",
    "        labels (dataframe): Labels that are meant to be mapped. *Disclaimer can be passed as numpy array or pd series in ndim is met.\n",
    "\n",
    "    Returns:\n",
    "        dataframe: encoded labels\n",
    "    \"\"\"\n",
    "    n_labels = len(labels)\n",
    "    n_unique_labels = len(np.unique(labels))\n",
    "    one_hot_encode = np.zeros((n_labels,n_unique_labels))\n",
    "    one_hot_encode[np.arange(n_labels), labels] = 1\n",
    "    return one_hot_encode\n",
    "\n",
    "X=df[df.columns[1:60]].values \n",
    "y=df[df.columns[60]]\n",
    "encoder = LabelEncoder()\n",
    "encoder.fit(y)\n",
    "y = encoder.transform(y)\n",
    "Y = one_hot_encode(y)\n",
    "X,Y = shuffle(X,Y,random_state=1)\n",
    "\n",
    "train_x, test_x, train_y, test_y = train_test_split(X,Y,test_size=0.20, random_state=42)"
   ]
  },
  {
   "attachments": {},
   "cell_type": "markdown",
   "metadata": {},
   "source": [
    "##### 1.3 Model definition"
   ]
  },
  {
   "cell_type": "code",
   "execution_count": 21,
   "metadata": {},
   "outputs": [],
   "source": [
    "sess=tf.Session()\n",
    "learning_rate = 0.1\n",
    "training_epochs = 145\n",
    "cost_history = np.empty(shape=[1],dtype=float)\n",
    "n_dim = X.shape[1]\n",
    "n_class = 2\n",
    "x = tf.placeholder(tf.float32,[None,n_dim])\n",
    "W = tf.Variable(tf.zeros([n_dim,n_class]))\n",
    "b = tf.Variable(tf.zeros([n_class]))\n",
    "init = tf.global_variables_initializer()\n",
    "\n",
    "# Funkcja kosztu\n",
    "y_ = tf.placeholder(tf.float32,[None,n_class])\n",
    "y = tf.nn.softmax(tf.matmul(x, W)+ b)\n",
    "cost_function = tf.reduce_mean(-tf.reduce_sum((y_ * tf.log(y)),reduction_indices=[1]))\n",
    "training_step = tf.train.GradientDescentOptimizer(learning_rate).minimize(cost_function)\n",
    "\n",
    "sess = tf.Session()\n",
    "sess.run(init)\n",
    "mse_history = []"
   ]
  },
  {
   "attachments": {},
   "cell_type": "markdown",
   "metadata": {},
   "source": [
    "##### 1.4 Traning and plotting"
   ]
  },
  {
   "cell_type": "code",
   "execution_count": 22,
   "metadata": {},
   "outputs": [
    {
     "data": {
      "image/png": "[encoded data removed]",
      "text/plain": [
       "<Figure size 432x288 with 1 Axes>"
      ]
     },
     "metadata": {
      "needs_background": "light"
     },
     "output_type": "display_data"
    }
   ],
   "source": [
    "sess=tf.Session()\n",
    "learning_rate = 0.1\n",
    "training_epochs = 145\n",
    "cost_history = np.empty(shape=[1],dtype=float)\n",
    "n_dim = X.shape[1]\n",
    "n_class = 2\n",
    "x = tf.placeholder(tf.float32,[None,n_dim])\n",
    "W = tf.Variable(tf.zeros([n_dim,n_class]))\n",
    "b = tf.Variable(tf.zeros([n_class]))\n",
    "init = tf.global_variables_initializer()\n",
    "\n",
    "# Funkcja kosztu\n",
    "y_ = tf.placeholder(tf.float32,[None,n_class])\n",
    "y = tf.nn.softmax(tf.matmul(x, W)+ b)\n",
    "cost_function = tf.reduce_mean(-tf.reduce_sum((y_ * tf.log(y)),reduction_indices=[1]))\n",
    "training_step = tf.train.GradientDescentOptimizer(learning_rate).minimize(cost_function)\n",
    "\n",
    "sess = tf.Session()\n",
    "sess.run(init)\n",
    "mse_history = []\n",
    "\n",
    "for epoch in range(training_epochs):\n",
    "    sess.run(training_step,feed_dict={x:train_x,y_:train_y})\n",
    "    cost = sess.run(cost_function,feed_dict={x: train_x,y_: train_y})\n",
    "    cost_history = np.append(cost_history,cost)\n",
    "    pred_y = sess.run(y, feed_dict={x: test_x})\n",
    "    mse = tf.reduce_mean(tf.square(pred_y - test_y))\n",
    "    mse_history.append(sess.run(mse))\n",
    "\n",
    "plt.plot(mse_history, 'ro-')\n",
    "plt.show()"
   ]
  },
  {
   "attachments": {},
   "cell_type": "markdown",
   "metadata": {},
   "source": [
    "##### 1.5 Predictions using SVM and decision trees"
   ]
  },
  {
   "cell_type": "code",
   "execution_count": 29,
   "metadata": {},
   "outputs": [
    {
     "name": "stdout",
     "output_type": "stream",
     "text": [
      "SVM Kernel used: linear\n",
      "SVC accuracy =  72.46376812 %\n",
      "Decision tree accuracy: 71.01449275\n",
      "\n",
      "\n",
      "SVM Kernel used: rbf\n",
      "SVC accuracy =  85.50724638 %\n",
      "Decision tree accuracy: 71.01449275\n",
      "\n",
      "\n",
      "SVM Kernel used: sigmoid\n",
      "SVC accuracy =  79.71014493 %\n",
      "Decision tree accuracy: 69.56521739\n",
      "\n",
      "\n"
     ]
    },
    {
     "name": "stderr",
     "output_type": "stream",
     "text": [
      "c:\\Users\\Pawel\\Anaconda3\\lib\\site-packages\\sklearn\\svm\\base.py:193: FutureWarning:\n",
      "\n",
      "The default value of gamma will change from 'auto' to 'scale' in version 0.22 to account better for unscaled features. Set gamma explicitly to 'auto' or 'scale' to avoid this warning.\n",
      "\n",
      "c:\\Users\\Pawel\\Anaconda3\\lib\\site-packages\\sklearn\\svm\\base.py:193: FutureWarning:\n",
      "\n",
      "The default value of gamma will change from 'auto' to 'scale' in version 0.22 to account better for unscaled features. Set gamma explicitly to 'auto' or 'scale' to avoid this warning.\n",
      "\n"
     ]
    }
   ],
   "source": [
    "def calculate_accuracy(x, y, svm_kernel=\"linear\"):\n",
    "    \"\"\"Calculate the accuracy for a given data and labels.\n",
    "\n",
    "    Args:\n",
    "        x (dataframe): Dataframe containing info.\n",
    "        y (dataframe): Labels for classification\n",
    "        svm_kernel (str, optional): Kernel used for SVM. Defaults to \"linear\".\n",
    "    \"\"\"\n",
    "    x_train, x_test, y_train, y_test = train_test_split(x, y, test_size = 0.33, stratify=y)\n",
    "    svc = SVC(kernel=svm_kernel)\n",
    "    svc.fit(x_train, y_train)\n",
    "    y_pred_svc = svc.predict(x_test)\n",
    "    svc_accuracy = round(accuracy_score(y_test, y_pred_svc)*100, 8)\n",
    "    print(f\"SVM Kernel used: {svm_kernel}\")\n",
    "    print('SVC accuracy = ', svc_accuracy,'%')\n",
    "\n",
    "    clf = DecisionTreeClassifier()\n",
    "    clf = clf.fit(x_train, y_train)\n",
    "    y_pred = clf.predict(x_test)\n",
    "    print(\"Decision tree accuracy:\", round(accuracy_score(y_test, y_pred)*100, 8))\n",
    "    print(\"\\n\")\n",
    "\n",
    "new_column_names = []\n",
    "for i in range(60):\n",
    "    new_column_names.append(f\"Feature {i}\")\n",
    "\n",
    "new_column_names.append(\"Class\")\n",
    "df = pd.read_csv('sonar.all-data.csv', names=new_column_names)\n",
    "train = df.replace({'Class': {'M': 0, 'R': 1}})\n",
    "x = train.drop(\"Class\",axis=1)\n",
    "y = train['Class']\n",
    "scaler = StandardScaler()\n",
    "x = scaler.fit_transform(x)\n",
    "\n",
    "calculate_accuracy(x, y, svm_kernel=\"linear\")\n",
    "calculate_accuracy(x, y, svm_kernel=\"rbf\")\n",
    "calculate_accuracy(x, y, svm_kernel=\"sigmoid\")"
   ]
  },
  {
   "attachments": {},
   "cell_type": "markdown",
   "metadata": {},
   "source": [
    "##### 1.6 Accuracy metrics for mlModel"
   ]
  },
  {
   "cell_type": "code",
   "execution_count": 30,
   "metadata": {},
   "outputs": [
    {
     "name": "stdout",
     "output_type": "stream",
     "text": [
      "Accuracy is equal to : 0.738095223903656%\n"
     ]
    }
   ],
   "source": [
    "correct_prediction = tf.equal(tf.argmax(pred_y,1), tf.argmax(test_y,1))\n",
    "accuracy = tf.reduce_mean(tf.cast(correct_prediction, tf.float32))\n",
    "print(f\"Accuracy is equal to : {sess.run(accuracy)}%\")"
   ]
  },
  {
   "attachments": {},
   "cell_type": "markdown",
   "metadata": {},
   "source": [
    "#### Dataset 2 - CIFAR10"
   ]
  },
  {
   "attachments": {},
   "cell_type": "markdown",
   "metadata": {},
   "source": [
    "##### 2.1 Download the dataset"
   ]
  },
  {
   "cell_type": "code",
   "execution_count": 31,
   "metadata": {},
   "outputs": [],
   "source": [
    "from tensorflow.keras.datasets import cifar10\n",
    "(X_train,y_train) , (X_test, y_test) = cifar10.load_data()"
   ]
  },
  {
   "attachments": {},
   "cell_type": "markdown",
   "metadata": {},
   "source": [
    "##### 2.2 Process the dataset"
   ]
  },
  {
   "cell_type": "code",
   "execution_count": 32,
   "metadata": {},
   "outputs": [],
   "source": [
    "X_train = X_train/255\n",
    "X_test = X_test/255\n",
    "y_cat_train  = to_categorical(y_train, 10)\n",
    "y_cat_test = to_categorical(y_test, 10)"
   ]
  },
  {
   "attachments": {},
   "cell_type": "markdown",
   "metadata": {},
   "source": [
    "##### 2.3.1 Train the model -> simple model"
   ]
  },
  {
   "cell_type": "code",
   "execution_count": 33,
   "metadata": {},
   "outputs": [
    {
     "name": "stdout",
     "output_type": "stream",
     "text": [
      "Train on 50000 samples, validate on 10000 samples\n",
      "Epoch 1/15\n",
      "50000/50000 [==============================] - 40s 799us/sample - loss: 1.5152 - acc: 0.4452 - val_loss: 1.2873 - val_acc: 0.5403\n",
      "Epoch 2/15\n",
      "50000/50000 [==============================] - 40s 802us/sample - loss: 1.1259 - acc: 0.6023 - val_loss: 1.0897 - val_acc: 0.6264\n",
      "Epoch 3/15\n",
      "50000/50000 [==============================] - 40s 792us/sample - loss: 0.9408 - acc: 0.6700 - val_loss: 0.9959 - val_acc: 0.6537\n",
      "Epoch 4/15\n",
      "50000/50000 [==============================] - 40s 791us/sample - loss: 0.7962 - acc: 0.7216 - val_loss: 1.0589 - val_acc: 0.6462\n",
      "Epoch 5/15\n",
      "50000/50000 [==============================] - 39s 777us/sample - loss: 0.6709 - acc: 0.7645 - val_loss: 0.9468 - val_acc: 0.6848\n",
      "Epoch 6/15\n",
      "50000/50000 [==============================] - 43s 853us/sample - loss: 0.5625 - acc: 0.8043 - val_loss: 1.0138 - val_acc: 0.6835\n",
      "Epoch 7/15\n",
      "50000/50000 [==============================] - 42s 838us/sample - loss: 0.4568 - acc: 0.8398 - val_loss: 1.1175 - val_acc: 0.6733\n"
     ]
    },
    {
     "data": {
      "text/plain": [
       "<tensorflow.python.keras.callbacks.History at 0x2919ac9eb08>"
      ]
     },
     "execution_count": 33,
     "metadata": {},
     "output_type": "execute_result"
    }
   ],
   "source": [
    "simple_model = Sequential()\n",
    "\n",
    "simple_model.add(Conv2D(filters = 32, kernel_size = (4,4), input_shape = (32, 32, 3), activation = \"relu\"))\n",
    "simple_model.add(MaxPool2D(pool_size = (2,2)))\n",
    "\n",
    "simple_model.add(Conv2D(filters = 64, kernel_size = (4,4), input_shape = (32, 32, 3), activation = \"relu\"))\n",
    "simple_model.add(MaxPool2D(pool_size = (2,2)))\n",
    "\n",
    "simple_model.add(Flatten())\n",
    "\n",
    "simple_model.add(Dense(512, activation = \"relu\"))\n",
    "simple_model.add(Dense(256, activation = \"relu\"))\n",
    "simple_model.add(Dense(128, activation = \"relu\"))\n",
    "\n",
    "simple_model.add(Dense(10, activation = \"softmax\"))\n",
    "\n",
    "simple_model.compile(loss = \"categorical_crossentropy\", optimizer = \"adam\", metrics = [\"accuracy\"])\n",
    "early_stop = EarlyStopping(monitor = \"val_loss\", patience = 2)\n",
    "simple_model.fit(X_train, y_cat_train, validation_data = (X_test, y_cat_test), epochs = 15, callbacks = [early_stop])\n"
   ]
  },
  {
   "attachments": {},
   "cell_type": "markdown",
   "metadata": {},
   "source": [
    "##### 2.3.2 Train model -> more advanced model"
   ]
  },
  {
   "cell_type": "code",
   "execution_count": 34,
   "metadata": {},
   "outputs": [
    {
     "name": "stdout",
     "output_type": "stream",
     "text": [
      "Train on 50000 samples, validate on 10000 samples\n",
      "Epoch 1/15\n",
      "50000/50000 [==============================] - 44s 882us/sample - loss: 1.6341 - acc: 0.3890 - val_loss: 1.4942 - val_acc: 0.4890\n",
      "Epoch 2/15\n",
      "50000/50000 [==============================] - 42s 841us/sample - loss: 1.2395 - acc: 0.5652 - val_loss: 1.2058 - val_acc: 0.5813\n",
      "Epoch 3/15\n",
      "50000/50000 [==============================] - 44s 880us/sample - loss: 1.0490 - acc: 0.6381 - val_loss: 1.0657 - val_acc: 0.6339\n",
      "Epoch 4/15\n",
      "50000/50000 [==============================] - 43s 850us/sample - loss: 0.9020 - acc: 0.6928 - val_loss: 1.0495 - val_acc: 0.6503\n",
      "Epoch 5/15\n",
      "50000/50000 [==============================] - 43s 854us/sample - loss: 0.7802 - acc: 0.7346 - val_loss: 1.0581 - val_acc: 0.6481\n",
      "Epoch 6/15\n",
      "50000/50000 [==============================] - 43s 851us/sample - loss: 0.6613 - acc: 0.7736 - val_loss: 1.0864 - val_acc: 0.6654\n"
     ]
    },
    {
     "data": {
      "text/plain": [
       "<tensorflow.python.keras.callbacks.History at 0x291a5ff97c8>"
      ]
     },
     "execution_count": 34,
     "metadata": {},
     "output_type": "execute_result"
    }
   ],
   "source": [
    "advanced_model = Sequential()\n",
    "\n",
    "advanced_model.add(Conv2D(filters = 32, kernel_size = (4,4), input_shape = (32, 32, 3), activation = \"relu\"))\n",
    "advanced_model.add(MaxPool2D(pool_size = (2,2)))\n",
    "\n",
    "advanced_model.add(Conv2D(filters = 64, kernel_size = (4,4), input_shape = (32, 32, 3), activation = \"relu\"))\n",
    "advanced_model.add(MaxPool2D(pool_size = (2,2)))\n",
    "\n",
    "advanced_model.add(Flatten())\n",
    "\n",
    "advanced_model.add(Dense(512, activation = \"relu\"))\n",
    "advanced_model.add(Dense(368, activation = \"relu\"))\n",
    "advanced_model.add(Dense(256, activation = \"relu\"))\n",
    "advanced_model.add(Dropout(0.4))\n",
    "advanced_model.add(Dense(128, activation = \"relu\"))\n",
    "advanced_model.add(Dense(64, activation = \"relu\"))\n",
    "\n",
    "advanced_model.add(Dense(10, activation = \"softmax\"))\n",
    "\n",
    "advanced_model.compile(loss = \"categorical_crossentropy\", optimizer = \"adam\", metrics = [\"accuracy\"])\n",
    "early_stop = EarlyStopping(monitor = \"val_loss\", patience = 2)\n",
    "advanced_model.fit(X_train, y_cat_train, validation_data = (X_test, y_cat_test), epochs = 15, callbacks = [early_stop])\n"
   ]
  },
  {
   "attachments": {},
   "cell_type": "markdown",
   "metadata": {},
   "source": [
    "##### 2.4.1 Metrics and accuracy for simple model"
   ]
  },
  {
   "cell_type": "code",
   "execution_count": 35,
   "metadata": {},
   "outputs": [
    {
     "data": {
      "text/html": [
       "<div>\n",
       "<style scoped>\n",
       "    .dataframe tbody tr th:only-of-type {\n",
       "        vertical-align: middle;\n",
       "    }\n",
       "\n",
       "    .dataframe tbody tr th {\n",
       "        vertical-align: top;\n",
       "    }\n",
       "\n",
       "    .dataframe thead th {\n",
       "        text-align: right;\n",
       "    }\n",
       "</style>\n",
       "<table border=\"1\" class=\"dataframe\">\n",
       "  <thead>\n",
       "    <tr style=\"text-align: right;\">\n",
       "      <th></th>\n",
       "      <th>loss</th>\n",
       "      <th>acc</th>\n",
       "      <th>val_loss</th>\n",
       "      <th>val_acc</th>\n",
       "    </tr>\n",
       "  </thead>\n",
       "  <tbody>\n",
       "    <tr>\n",
       "      <td>0</td>\n",
       "      <td>1.515241</td>\n",
       "      <td>0.44524</td>\n",
       "      <td>1.287343</td>\n",
       "      <td>0.5403</td>\n",
       "    </tr>\n",
       "    <tr>\n",
       "      <td>1</td>\n",
       "      <td>1.125881</td>\n",
       "      <td>0.60234</td>\n",
       "      <td>1.089656</td>\n",
       "      <td>0.6264</td>\n",
       "    </tr>\n",
       "    <tr>\n",
       "      <td>2</td>\n",
       "      <td>0.940773</td>\n",
       "      <td>0.67000</td>\n",
       "      <td>0.995947</td>\n",
       "      <td>0.6537</td>\n",
       "    </tr>\n",
       "    <tr>\n",
       "      <td>3</td>\n",
       "      <td>0.796204</td>\n",
       "      <td>0.72158</td>\n",
       "      <td>1.058904</td>\n",
       "      <td>0.6462</td>\n",
       "    </tr>\n",
       "    <tr>\n",
       "      <td>4</td>\n",
       "      <td>0.670896</td>\n",
       "      <td>0.76454</td>\n",
       "      <td>0.946812</td>\n",
       "      <td>0.6848</td>\n",
       "    </tr>\n",
       "    <tr>\n",
       "      <td>5</td>\n",
       "      <td>0.562493</td>\n",
       "      <td>0.80434</td>\n",
       "      <td>1.013834</td>\n",
       "      <td>0.6835</td>\n",
       "    </tr>\n",
       "    <tr>\n",
       "      <td>6</td>\n",
       "      <td>0.456819</td>\n",
       "      <td>0.83982</td>\n",
       "      <td>1.117503</td>\n",
       "      <td>0.6733</td>\n",
       "    </tr>\n",
       "  </tbody>\n",
       "</table>\n",
       "</div>"
      ],
      "text/plain": [
       "       loss      acc  val_loss  val_acc\n",
       "0  1.515241  0.44524  1.287343   0.5403\n",
       "1  1.125881  0.60234  1.089656   0.6264\n",
       "2  0.940773  0.67000  0.995947   0.6537\n",
       "3  0.796204  0.72158  1.058904   0.6462\n",
       "4  0.670896  0.76454  0.946812   0.6848\n",
       "5  0.562493  0.80434  1.013834   0.6835\n",
       "6  0.456819  0.83982  1.117503   0.6733"
      ]
     },
     "execution_count": 35,
     "metadata": {},
     "output_type": "execute_result"
    }
   ],
   "source": [
    "metrics = pd.DataFrame(simple_model.history.history)\n",
    "metrics"
   ]
  },
  {
   "attachments": {},
   "cell_type": "markdown",
   "metadata": {},
   "source": [
    "##### 2.4.1 Metrics and accuracy for advanced model"
   ]
  },
  {
   "cell_type": "code",
   "execution_count": 36,
   "metadata": {},
   "outputs": [
    {
     "data": {
      "text/html": [
       "<div>\n",
       "<style scoped>\n",
       "    .dataframe tbody tr th:only-of-type {\n",
       "        vertical-align: middle;\n",
       "    }\n",
       "\n",
       "    .dataframe tbody tr th {\n",
       "        vertical-align: top;\n",
       "    }\n",
       "\n",
       "    .dataframe thead th {\n",
       "        text-align: right;\n",
       "    }\n",
       "</style>\n",
       "<table border=\"1\" class=\"dataframe\">\n",
       "  <thead>\n",
       "    <tr style=\"text-align: right;\">\n",
       "      <th></th>\n",
       "      <th>loss</th>\n",
       "      <th>acc</th>\n",
       "      <th>val_loss</th>\n",
       "      <th>val_acc</th>\n",
       "    </tr>\n",
       "  </thead>\n",
       "  <tbody>\n",
       "    <tr>\n",
       "      <td>0</td>\n",
       "      <td>1.634062</td>\n",
       "      <td>0.38904</td>\n",
       "      <td>1.494192</td>\n",
       "      <td>0.4890</td>\n",
       "    </tr>\n",
       "    <tr>\n",
       "      <td>1</td>\n",
       "      <td>1.239473</td>\n",
       "      <td>0.56524</td>\n",
       "      <td>1.205834</td>\n",
       "      <td>0.5813</td>\n",
       "    </tr>\n",
       "    <tr>\n",
       "      <td>2</td>\n",
       "      <td>1.049030</td>\n",
       "      <td>0.63808</td>\n",
       "      <td>1.065720</td>\n",
       "      <td>0.6339</td>\n",
       "    </tr>\n",
       "    <tr>\n",
       "      <td>3</td>\n",
       "      <td>0.902034</td>\n",
       "      <td>0.69282</td>\n",
       "      <td>1.049542</td>\n",
       "      <td>0.6503</td>\n",
       "    </tr>\n",
       "    <tr>\n",
       "      <td>4</td>\n",
       "      <td>0.780227</td>\n",
       "      <td>0.73458</td>\n",
       "      <td>1.058148</td>\n",
       "      <td>0.6481</td>\n",
       "    </tr>\n",
       "    <tr>\n",
       "      <td>5</td>\n",
       "      <td>0.661311</td>\n",
       "      <td>0.77358</td>\n",
       "      <td>1.086442</td>\n",
       "      <td>0.6654</td>\n",
       "    </tr>\n",
       "  </tbody>\n",
       "</table>\n",
       "</div>"
      ],
      "text/plain": [
       "       loss      acc  val_loss  val_acc\n",
       "0  1.634062  0.38904  1.494192   0.4890\n",
       "1  1.239473  0.56524  1.205834   0.5813\n",
       "2  1.049030  0.63808  1.065720   0.6339\n",
       "3  0.902034  0.69282  1.049542   0.6503\n",
       "4  0.780227  0.73458  1.058148   0.6481\n",
       "5  0.661311  0.77358  1.086442   0.6654"
      ]
     },
     "execution_count": 36,
     "metadata": {},
     "output_type": "execute_result"
    }
   ],
   "source": [
    "metrics = pd.DataFrame(advanced_model.history.history)\n",
    "metrics"
   ]
  },
  {
   "attachments": {},
   "cell_type": "markdown",
   "metadata": {},
   "source": [
    "#### Dataset 3 - Fashion MNIST"
   ]
  },
  {
   "attachments": {},
   "cell_type": "markdown",
   "metadata": {},
   "source": [
    "##### 3.1 Download dataset"
   ]
  },
  {
   "cell_type": "code",
   "execution_count": 37,
   "metadata": {},
   "outputs": [],
   "source": [
    "%%capture\n",
    "from tensorflow.keras.datasets import fashion_mnist\n",
    "(x_train, y_train), (x_test, y_test) = fashion_mnist.load_data()"
   ]
  },
  {
   "attachments": {},
   "cell_type": "markdown",
   "metadata": {},
   "source": [
    "##### 3.2 Parse dataset"
   ]
  },
  {
   "cell_type": "code",
   "execution_count": 38,
   "metadata": {},
   "outputs": [],
   "source": [
    "x_train = x_train.reshape(x_train.shape[0], 28, 28, 1)\n",
    "x_test = x_test.reshape(x_test.shape[0], 28, 28, 1)\n",
    "\n",
    "x_train = x_train/255.\n",
    "x_test = x_test/255.\n",
    "\n",
    "y_train = to_categorical(y_train,10)\n",
    "y_test = to_categorical(y_test,10)"
   ]
  },
  {
   "attachments": {},
   "cell_type": "markdown",
   "metadata": {},
   "source": [
    "##### 3.3 Train model"
   ]
  },
  {
   "cell_type": "code",
   "execution_count": 39,
   "metadata": {},
   "outputs": [
    {
     "name": "stdout",
     "output_type": "stream",
     "text": [
      "Train on 60000 samples, validate on 10000 samples\n",
      "Epoch 1/6\n",
      "60000/60000 [==============================] - 177s 3ms/sample - loss: 0.5990 - acc: 0.7933 - val_loss: 0.5636 - val_acc: 0.8830\n",
      "Epoch 2/6\n",
      "60000/60000 [==============================] - 177s 3ms/sample - loss: 0.3436 - acc: 0.8757 - val_loss: 0.2773 - val_acc: 0.8994\n",
      "Epoch 3/6\n",
      "60000/60000 [==============================] - 174s 3ms/sample - loss: 0.2917 - acc: 0.8935 - val_loss: 0.2435 - val_acc: 0.9098\n",
      "Epoch 4/6\n",
      "60000/60000 [==============================] - 170s 3ms/sample - loss: 0.2590 - acc: 0.9044 - val_loss: 0.2550 - val_acc: 0.9043\n",
      "Epoch 5/6\n",
      "60000/60000 [==============================] - 177s 3ms/sample - loss: 0.2391 - acc: 0.9108 - val_loss: 0.2232 - val_acc: 0.9162\n",
      "Epoch 6/6\n",
      "60000/60000 [==============================] - 171s 3ms/sample - loss: 0.2249 - acc: 0.9173 - val_loss: 0.2362 - val_acc: 0.9158\n"
     ]
    },
    {
     "data": {
      "text/plain": [
       "<tensorflow.python.keras.callbacks.History at 0x291a67abc88>"
      ]
     },
     "execution_count": 39,
     "metadata": {},
     "output_type": "execute_result"
    }
   ],
   "source": [
    "model = Sequential()\n",
    "model.add(Conv2D(32, kernel_size=3, activation='relu', input_shape=(28,28,1),padding='same'))\n",
    "model.add(BatchNormalization())\n",
    "model.add(Dropout(0.2))\n",
    "model.add(Conv2D(32, kernel_size=3, activation='relu',padding='same'))\n",
    "model.add(Dropout(0.2))\n",
    "model.add(Conv2D(24, kernel_size=3, activation='relu',padding='same'))\n",
    "model.add(Dropout(0.2))\n",
    "model.add(Conv2D(64, kernel_size=3, activation='relu',padding='same'))\n",
    "model.add(MaxPooling2D(pool_size=(2,2)))\n",
    "model.add(Dropout(0.2))\n",
    "model.add(Flatten())\n",
    "model.add(Dense(128, activation='relu'))\n",
    "model.add(Dropout(0.3))\n",
    "model.add(Dense(10, activation='softmax'))\n",
    "\n",
    "model.compile(optimizer='adam', metrics=['accuracy'], loss='categorical_crossentropy')\n",
    "callback_list=[ModelCheckpoint(filepath=\"model.h5\", monitor='val_acc', save_best_only=True, mode='max')]\n",
    "\n",
    "model.fit(x_train,y_train,validation_data=(x_test,y_test),batch_size=128,epochs=6,verbose=1,callbacks=callback_list)"
   ]
  },
  {
   "attachments": {},
   "cell_type": "markdown",
   "metadata": {},
   "source": [
    "##### 3.4 Evaluate model"
   ]
  },
  {
   "cell_type": "code",
   "execution_count": 40,
   "metadata": {},
   "outputs": [
    {
     "name": "stdout",
     "output_type": "stream",
     "text": [
      "10000/10000 [==============================] - 5s 517us/sample - loss: 0.2362 - acc: 0.9158\n"
     ]
    },
    {
     "data": {
      "text/plain": [
       "[0.2361751497745514, 0.9158]"
      ]
     },
     "execution_count": 40,
     "metadata": {},
     "output_type": "execute_result"
    }
   ],
   "source": [
    "model.evaluate(x_test,y_test)"
   ]
  },
  {
   "attachments": {},
   "cell_type": "markdown",
   "metadata": {},
   "source": [
    "##### 3.4 Metrics and accuracy"
   ]
  },
  {
   "cell_type": "code",
   "execution_count": 41,
   "metadata": {},
   "outputs": [
    {
     "data": {
      "text/html": [
       "<div>\n",
       "<style scoped>\n",
       "    .dataframe tbody tr th:only-of-type {\n",
       "        vertical-align: middle;\n",
       "    }\n",
       "\n",
       "    .dataframe tbody tr th {\n",
       "        vertical-align: top;\n",
       "    }\n",
       "\n",
       "    .dataframe thead th {\n",
       "        text-align: right;\n",
       "    }\n",
       "</style>\n",
       "<table border=\"1\" class=\"dataframe\">\n",
       "  <thead>\n",
       "    <tr style=\"text-align: right;\">\n",
       "      <th></th>\n",
       "      <th>loss</th>\n",
       "      <th>acc</th>\n",
       "      <th>val_loss</th>\n",
       "      <th>val_acc</th>\n",
       "    </tr>\n",
       "  </thead>\n",
       "  <tbody>\n",
       "    <tr>\n",
       "      <td>0</td>\n",
       "      <td>0.599018</td>\n",
       "      <td>0.793300</td>\n",
       "      <td>0.563556</td>\n",
       "      <td>0.8830</td>\n",
       "    </tr>\n",
       "    <tr>\n",
       "      <td>1</td>\n",
       "      <td>0.343565</td>\n",
       "      <td>0.875683</td>\n",
       "      <td>0.277272</td>\n",
       "      <td>0.8994</td>\n",
       "    </tr>\n",
       "    <tr>\n",
       "      <td>2</td>\n",
       "      <td>0.291661</td>\n",
       "      <td>0.893450</td>\n",
       "      <td>0.243479</td>\n",
       "      <td>0.9098</td>\n",
       "    </tr>\n",
       "    <tr>\n",
       "      <td>3</td>\n",
       "      <td>0.259030</td>\n",
       "      <td>0.904417</td>\n",
       "      <td>0.254980</td>\n",
       "      <td>0.9043</td>\n",
       "    </tr>\n",
       "    <tr>\n",
       "      <td>4</td>\n",
       "      <td>0.239107</td>\n",
       "      <td>0.910833</td>\n",
       "      <td>0.223165</td>\n",
       "      <td>0.9162</td>\n",
       "    </tr>\n",
       "    <tr>\n",
       "      <td>5</td>\n",
       "      <td>0.224885</td>\n",
       "      <td>0.917333</td>\n",
       "      <td>0.236175</td>\n",
       "      <td>0.9158</td>\n",
       "    </tr>\n",
       "  </tbody>\n",
       "</table>\n",
       "</div>"
      ],
      "text/plain": [
       "       loss       acc  val_loss  val_acc\n",
       "0  0.599018  0.793300  0.563556   0.8830\n",
       "1  0.343565  0.875683  0.277272   0.8994\n",
       "2  0.291661  0.893450  0.243479   0.9098\n",
       "3  0.259030  0.904417  0.254980   0.9043\n",
       "4  0.239107  0.910833  0.223165   0.9162\n",
       "5  0.224885  0.917333  0.236175   0.9158"
      ]
     },
     "execution_count": 41,
     "metadata": {},
     "output_type": "execute_result"
    }
   ],
   "source": [
    "metrics = pd.DataFrame(model.history.history)\n",
    "metrics"
   ]
  },
  {
   "attachments": {},
   "cell_type": "markdown",
   "metadata": {},
   "source": [
    "##### 3.5 Confusion matrix"
   ]
  },
  {
   "cell_type": "code",
   "execution_count": 42,
   "metadata": {},
   "outputs": [
    {
     "data": {
      "text/plain": [
       "Text(0.5, 160.41299999999993, 'Predicted label')"
      ]
     },
     "execution_count": 42,
     "metadata": {},
     "output_type": "execute_result"
    },
    {
     "data": {
      "image/png": "[encoded data removed]",
      "text/plain": [
       "<Figure size 1008x1008 with 2 Axes>"
      ]
     },
     "metadata": {
      "needs_background": "light"
     },
     "output_type": "display_data"
    }
   ],
   "source": [
    "classes = ['T-shirt/Top','Trouser','Pullover','Dress','Coat','Sandal','Shirt','Sneaker','Bag','Ankle Boot']\n",
    "preds = model.predict(x_test)\n",
    "cm = confusion_matrix(np.argmax(y_test,axis=1), np.argmax(preds,axis=1))\n",
    "\n",
    "plt.figure(figsize=(14,14))\n",
    "plt.imshow(cm,cmap=plt.cm.Reds)\n",
    "plt.title('Fashion MNIST Confusion Matrix - CNN')\n",
    "plt.colorbar()\n",
    "plt.xticks(np.arange(10), classes, rotation=90)\n",
    "plt.yticks(np.arange(10), classes)\n",
    "\n",
    "for i, j in product(range(cm.shape[0]), range(cm.shape[1])):\n",
    "    plt.text(j, i, cm[i, j],\n",
    "    horizontalalignment=\"center\",\n",
    "    color=\"white\" if cm[i, j] > 500 else \"black\")\n",
    "\n",
    "plt.tight_layout()\n",
    "plt.ylabel('True label')\n",
    "plt.xlabel('Predicted label')"
   ]
  },
  {
   "attachments": {},
   "cell_type": "markdown",
   "metadata": {},
   "source": [
    "#### Dataset 4 - Twitter"
   ]
  },
  {
   "attachments": {},
   "cell_type": "markdown",
   "metadata": {},
   "source": [
    "##### 4.1.1 Download Tweets"
   ]
  },
  {
   "cell_type": "code",
   "execution_count": 43,
   "metadata": {},
   "outputs": [
    {
     "data": {
      "text/html": [
       "<div>\n",
       "<style scoped>\n",
       "    .dataframe tbody tr th:only-of-type {\n",
       "        vertical-align: middle;\n",
       "    }\n",
       "\n",
       "    .dataframe tbody tr th {\n",
       "        vertical-align: top;\n",
       "    }\n",
       "\n",
       "    .dataframe thead th {\n",
       "        text-align: right;\n",
       "    }\n",
       "</style>\n",
       "<table border=\"1\" class=\"dataframe\">\n",
       "  <thead>\n",
       "    <tr style=\"text-align: right;\">\n",
       "      <th></th>\n",
       "      <th>date</th>\n",
       "      <th>URL</th>\n",
       "      <th>content</th>\n",
       "      <th>id</th>\n",
       "    </tr>\n",
       "  </thead>\n",
       "  <tbody>\n",
       "    <tr>\n",
       "      <td>0</td>\n",
       "      <td>2022-12-10 23:06:14+00:00</td>\n",
       "      <td>https://twitter.com/vbl68/status/1601714937360...</td>\n",
       "      <td>Ukrainian Drone Drops grenade Into Russian Sol...</td>\n",
       "      <td>1601714937360920577</td>\n",
       "    </tr>\n",
       "    <tr>\n",
       "      <td>1</td>\n",
       "      <td>2022-12-10 23:06:13+00:00</td>\n",
       "      <td>https://twitter.com/JmyLss/status/160171493550...</td>\n",
       "      <td>Des #Ukrainiens abandonnent leurs compagnons d...</td>\n",
       "      <td>1601714935507349504</td>\n",
       "    </tr>\n",
       "    <tr>\n",
       "      <td>2</td>\n",
       "      <td>2022-12-10 23:06:13+00:00</td>\n",
       "      <td>https://twitter.com/gplaucio/status/1601714934...</td>\n",
       "      <td>#ukraine\\nhttps://t.co/sHh1vbPnXY</td>\n",
       "      <td>1601714934878175233</td>\n",
       "    </tr>\n",
       "    <tr>\n",
       "      <td>3</td>\n",
       "      <td>2022-12-10 23:06:03+00:00</td>\n",
       "      <td>https://twitter.com/Vierotchka/status/16017148...</td>\n",
       "      <td>@afshinrattansi So why do they continue pumpin...</td>\n",
       "      <td>1601714890938667008</td>\n",
       "    </tr>\n",
       "    <tr>\n",
       "      <td>4</td>\n",
       "      <td>2022-12-10 23:06:02+00:00</td>\n",
       "      <td>https://twitter.com/FuckPutinBot/status/160171...</td>\n",
       "      <td>Joan zaitez zeure burua, Putin!\\n(Basque)\\n\\n#...</td>\n",
       "      <td>1601714890531553282</td>\n",
       "    </tr>\n",
       "  </tbody>\n",
       "</table>\n",
       "</div>"
      ],
      "text/plain": [
       "                       date  \\\n",
       "0 2022-12-10 23:06:14+00:00   \n",
       "1 2022-12-10 23:06:13+00:00   \n",
       "2 2022-12-10 23:06:13+00:00   \n",
       "3 2022-12-10 23:06:03+00:00   \n",
       "4 2022-12-10 23:06:02+00:00   \n",
       "\n",
       "                                                 URL  \\\n",
       "0  https://twitter.com/vbl68/status/1601714937360...   \n",
       "1  https://twitter.com/JmyLss/status/160171493550...   \n",
       "2  https://twitter.com/gplaucio/status/1601714934...   \n",
       "3  https://twitter.com/Vierotchka/status/16017148...   \n",
       "4  https://twitter.com/FuckPutinBot/status/160171...   \n",
       "\n",
       "                                             content                   id  \n",
       "0  Ukrainian Drone Drops grenade Into Russian Sol...  1601714937360920577  \n",
       "1  Des #Ukrainiens abandonnent leurs compagnons d...  1601714935507349504  \n",
       "2                  #ukraine\\nhttps://t.co/sHh1vbPnXY  1601714934878175233  \n",
       "3  @afshinrattansi So why do they continue pumpin...  1601714890938667008  \n",
       "4  Joan zaitez zeure burua, Putin!\\n(Basque)\\n\\n#...  1601714890531553282  "
      ]
     },
     "execution_count": 43,
     "metadata": {},
     "output_type": "execute_result"
    }
   ],
   "source": [
    "max_tweets = 10000\n",
    "attributes_container = []\n",
    "hashtag_scraper = TwitterHashtagScraper(\"#ukraine\")\n",
    "generator = hashtag_scraper.get_items()\n",
    "tweets = [next(generator) for _ in range(max_tweets)]\n",
    "for tweet in tweets:\n",
    "    attributes_container.append([tweet.date, tweet.url, tweet.content, tweet.id])\n",
    "\n",
    "tweets_df = pd.DataFrame(attributes_container, columns=[\"date\", \"URL\", \"content\", \"id\"])\n",
    "tweets_df.to_csv(\"twitter_data.csv\")\n",
    "tweets_df.head()"
   ]
  },
  {
   "attachments": {},
   "cell_type": "markdown",
   "metadata": {},
   "source": [
    "##### 4.1.2 If datasets were downlaoded simply load them"
   ]
  },
  {
   "cell_type": "code",
   "execution_count": 44,
   "metadata": {},
   "outputs": [],
   "source": [
    "train = pd.read_csv('train.csv')\n",
    "test = pd.read_csv('test.csv')"
   ]
  },
  {
   "attachments": {},
   "cell_type": "markdown",
   "metadata": {},
   "source": [
    "##### 4.2 Data preprocessing"
   ]
  },
  {
   "cell_type": "code",
   "execution_count": 45,
   "metadata": {},
   "outputs": [],
   "source": [
    "X_train, X_test, y_train, y_test = train_test_split(train[['text']].values, train[['target']], test_size=0.2, random_state=2012)"
   ]
  },
  {
   "attachments": {},
   "cell_type": "markdown",
   "metadata": {},
   "source": [
    "##### 4.3 Word tokenization"
   ]
  },
  {
   "cell_type": "code",
   "execution_count": 46,
   "metadata": {},
   "outputs": [],
   "source": [
    "tokenizer = Tokenizer()\n",
    "\n",
    "vocab_size = 10000\n",
    "tokenizer = Tokenizer(num_words=vocab_size, oov_token='<OOV>')\n",
    "tokenizer.fit_on_texts(X_train[:,0])\n",
    "text_length = []\n",
    "for line in X_train[:,0]:\n",
    "    text_length.append(len(line.split()))\n",
    "text_length = np.array(text_length)\n",
    "max_len = 20\n",
    "\n",
    "X_seq_train = pad_sequences(tokenizer.texts_to_sequences(X_train[:, 0]), padding='post', maxlen=max_len)\n",
    "X_seq_test = pad_sequences(tokenizer.texts_to_sequences(X_test[:, 0]), padding='post', maxlen=max_len)"
   ]
  },
  {
   "attachments": {},
   "cell_type": "markdown",
   "metadata": {},
   "source": [
    "##### 4.4 Create model"
   ]
  },
  {
   "cell_type": "code",
   "execution_count": 47,
   "metadata": {},
   "outputs": [
    {
     "name": "stdout",
     "output_type": "stream",
     "text": [
      "Model: \"model_2\"\n",
      "_________________________________________________________________\n",
      "Layer (type)                 Output Shape              Param #   \n",
      "=================================================================\n",
      "input_3 (InputLayer)         [(None, 20)]              0         \n",
      "_________________________________________________________________\n",
      "embedding_2 (Embedding)      (None, 20, 16)            160000    \n",
      "_________________________________________________________________\n",
      "global_average_pooling1d_2 ( (None, 16)                0         \n",
      "_________________________________________________________________\n",
      "dense_14 (Dense)             (None, 1)                 17        \n",
      "=================================================================\n",
      "Total params: 160,017\n",
      "Trainable params: 160,017\n",
      "Non-trainable params: 0\n",
      "_________________________________________________________________\n",
      "Train on 6090 samples, validate on 1523 samples\n",
      "Epoch 1/21\n",
      "6090/6090 [==============================] - 1s 101us/sample - loss: 0.4786 - acc: 0.6146 - val_loss: 0.4520 - val_acc: 0.6014\n",
      "Epoch 2/21\n",
      "6090/6090 [==============================] - 0s 60us/sample - loss: 0.4183 - acc: 0.6468 - val_loss: 0.4007 - val_acc: 0.6376\n",
      "Epoch 3/21\n",
      "6090/6090 [==============================] - 0s 60us/sample - loss: 0.3676 - acc: 0.6982 - val_loss: 0.3622 - val_acc: 0.6842\n",
      "Epoch 4/21\n",
      "6090/6090 [==============================] - 0s 61us/sample - loss: 0.3254 - acc: 0.7351 - val_loss: 0.3289 - val_acc: 0.7282\n",
      "Epoch 5/21\n",
      "6090/6090 [==============================] - 0s 59us/sample - loss: 0.2902 - acc: 0.7742 - val_loss: 0.3037 - val_acc: 0.7466\n",
      "Epoch 6/21\n",
      "6090/6090 [==============================] - 0s 58us/sample - loss: 0.2614 - acc: 0.7966 - val_loss: 0.2849 - val_acc: 0.7669\n",
      "Epoch 7/21\n",
      "6090/6090 [==============================] - 0s 61us/sample - loss: 0.2374 - acc: 0.8184 - val_loss: 0.2705 - val_acc: 0.7794\n",
      "Epoch 8/21\n",
      "6090/6090 [==============================] - 0s 61us/sample - loss: 0.2176 - acc: 0.8369 - val_loss: 0.2596 - val_acc: 0.7853\n",
      "Epoch 9/21\n",
      "6090/6090 [==============================] - 0s 60us/sample - loss: 0.2010 - acc: 0.8486 - val_loss: 0.2510 - val_acc: 0.7892\n",
      "Epoch 10/21\n",
      "6090/6090 [==============================] - 0s 66us/sample - loss: 0.1868 - acc: 0.8570 - val_loss: 0.2446 - val_acc: 0.7932\n",
      "Epoch 11/21\n",
      "6090/6090 [==============================] - 0s 59us/sample - loss: 0.1747 - acc: 0.8685 - val_loss: 0.2392 - val_acc: 0.7925\n",
      "Epoch 12/21\n",
      "6090/6090 [==============================] - 0s 59us/sample - loss: 0.1639 - acc: 0.8742 - val_loss: 0.2356 - val_acc: 0.8004\n",
      "Epoch 13/21\n",
      "6090/6090 [==============================] - 0s 63us/sample - loss: 0.1549 - acc: 0.8814 - val_loss: 0.2310 - val_acc: 0.8011\n",
      "Epoch 14/21\n",
      "6090/6090 [==============================] - 0s 62us/sample - loss: 0.1466 - acc: 0.8870 - val_loss: 0.2280 - val_acc: 0.8011\n",
      "Epoch 15/21\n",
      "6090/6090 [==============================] - 0s 63us/sample - loss: 0.1389 - acc: 0.8924 - val_loss: 0.2258 - val_acc: 0.8017\n",
      "Epoch 16/21\n",
      "6090/6090 [==============================] - 0s 60us/sample - loss: 0.1320 - acc: 0.8959 - val_loss: 0.2246 - val_acc: 0.7945\n",
      "Epoch 17/21\n",
      "6090/6090 [==============================] - 0s 63us/sample - loss: 0.1259 - acc: 0.9031 - val_loss: 0.2216 - val_acc: 0.8017\n",
      "Epoch 18/21\n",
      "6090/6090 [==============================] - 0s 60us/sample - loss: 0.1200 - acc: 0.9066 - val_loss: 0.2199 - val_acc: 0.8011\n",
      "Epoch 19/21\n",
      "6090/6090 [==============================] - 0s 59us/sample - loss: 0.1146 - acc: 0.9135 - val_loss: 0.2187 - val_acc: 0.8024\n",
      "Epoch 20/21\n",
      "6090/6090 [==============================] - 0s 63us/sample - loss: 0.1094 - acc: 0.9156 - val_loss: 0.2169 - val_acc: 0.8037\n",
      "Epoch 21/21\n",
      "6090/6090 [==============================] - 0s 62us/sample - loss: 0.1047 - acc: 0.9197 - val_loss: 0.2160 - val_acc: 0.8037\n"
     ]
    }
   ],
   "source": [
    "sequence = tf.keras.Input(shape=(max_len,))\n",
    "embdeddings = layers.Embedding(vocab_size, 16)(sequence)\n",
    "\n",
    "pooling = layers.GlobalAveragePooling1D()(embdeddings)\n",
    "output = layers.Dense(1, activation='sigmoid')(pooling)\n",
    "model = tf.keras.Model(inputs=sequence, outputs=output)\n",
    "model.compile(optimizer=\"adam\",\n",
    "              loss='mae',\n",
    "              metrics=['accuracy'])\n",
    "\n",
    "model.summary()\n",
    "model.fit(X_seq_train, y_train,\n",
    "        epochs=21,\n",
    "        validation_data=(X_seq_test, y_test))\n",
    "model.compile(loss='binary_crossentropy', optimizer='adam',metrics=['accuracy'])"
   ]
  },
  {
   "attachments": {},
   "cell_type": "markdown",
   "metadata": {},
   "source": [
    "##### 4.5 Evaluate the model"
   ]
  },
  {
   "cell_type": "code",
   "execution_count": 48,
   "metadata": {},
   "outputs": [
    {
     "data": {
      "text/plain": [
       "<matplotlib.axes._subplots.AxesSubplot at 0x2919adf7888>"
      ]
     },
     "execution_count": 48,
     "metadata": {},
     "output_type": "execute_result"
    },
    {
     "data": {
      "image/png": "[encoded data removed]",
      "text/plain": [
       "<Figure size 432x288 with 1 Axes>"
      ]
     },
     "metadata": {
      "needs_background": "light"
     },
     "output_type": "display_data"
    }
   ],
   "source": [
    "model_loss = pd.DataFrame(model.history.history)\n",
    "model_loss.head()\n",
    "model_loss[['acc','val_loss']].plot()"
   ]
  },
  {
   "cell_type": "code",
   "execution_count": null,
   "metadata": {},
   "outputs": [],
   "source": []
  }
 ],
 "metadata": {
  "kernelspec": {
   "display_name": "base",
   "language": "python",
   "name": "python3"
  },
  "language_info": {
   "codemirror_mode": {
    "name": "ipython",
    "version": 3
   },
   "file_extension": ".py",
   "mimetype": "text/x-python",
   "name": "python",
   "nbconvert_exporter": "python",
   "pygments_lexer": "ipython3",
   "version": "3.7.4"
  },
  "orig_nbformat": 4,
  "vscode": {
   "interpreter": {
    "hash": "d2d0d6908f5b470dc9958c7504c0524d1b3a0e977889cbbbba605ceebb0bcea2"
   }
  }
 },
 "nbformat": 4,
 "nbformat_minor": 2
}
